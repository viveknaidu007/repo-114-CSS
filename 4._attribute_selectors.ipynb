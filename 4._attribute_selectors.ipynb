{
 "cells": [
  {
   "cell_type": "code",
   "execution_count": null,
   "metadata": {},
   "outputs": [],
   "source": [
    "# Attribute selectors [] : \n"
   ]
  },
  {
   "cell_type": "markdown",
   "metadata": {},
   "source": [
    "![p](img\\img11.png)"
   ]
  },
  {
   "cell_type": "code",
   "execution_count": null,
   "metadata": {},
   "outputs": [],
   "source": [
    "#in this below case we cangive any title name in our tags it will take and make changes"
   ]
  },
  {
   "cell_type": "code",
   "execution_count": null,
   "metadata": {
    "vscode": {
     "languageId": "html"
    }
   },
   "outputs": [],
   "source": [
    "<!DOCTYPE html>\n",
    "<html>\n",
    "    <head>\n",
    "        <meta charset=\"utf-8\" />\n",
    "        <title>attributes selectors</title>\n",
    "        <style>\n",
    "            p[title]{\n",
    "                background: yellowgreen;\n",
    "                font-size: 20px;\n",
    "            }\n",
    "        </style>\n",
    "    </head>\n",
    "\n",
    "    <body>\n",
    "        <p title=\"paragraph\"> this is paragraph 1</p>\n",
    "        <p title=\"noob\"> this is paragraph 2</p>\n",
    "        <p> this is paragraph 3</p>\n",
    "        <p> this is paragraph 4</p>\n",
    "    </body>\n",
    "</html>"
   ]
  },
  {
   "cell_type": "code",
   "execution_count": null,
   "metadata": {},
   "outputs": [],
   "source": [
    "#in this below case , only title should batch it will apply the styles o that particular only"
   ]
  },
  {
   "cell_type": "code",
   "execution_count": null,
   "metadata": {
    "vscode": {
     "languageId": "html"
    }
   },
   "outputs": [],
   "source": [
    "<!DOCTYPE html>\n",
    "<html>\n",
    "    <head>\n",
    "        <meta charset=\"utf-8\" />\n",
    "        <title>attributes selectors</title>\n",
    "        <style>\n",
    "            p[title=\"noob\"]{\n",
    "                background: yellowgreen;\n",
    "                font-size: 20px;\n",
    "            }\n",
    "        </style>\n",
    "    </head>\n",
    "\n",
    "    <body>\n",
    "        <p title=\"paragraph\"> this is paragraph 1</p>\n",
    "        <p title=\"noob\"> this is paragraph 2</p>\n",
    "        <p> this is paragraph 3</p>\n",
    "        <p> this is paragraph 4</p>\n",
    "    </body>\n",
    "</html>"
   ]
  },
  {
   "cell_type": "code",
   "execution_count": null,
   "metadata": {},
   "outputs": [],
   "source": [
    "#in thi sbelow case it will take name if any spaces were thee , no need to match full owrd , if half of word were matches it willl excutes"
   ]
  },
  {
   "cell_type": "code",
   "execution_count": null,
   "metadata": {
    "vscode": {
     "languageId": "html"
    }
   },
   "outputs": [],
   "source": [
    "<!DOCTYPE html>\n",
    "<html>\n",
    "    <head>\n",
    "        <meta charset=\"utf-8\" />\n",
    "        <title>attributes selectors</title>\n",
    "        <style>\n",
    "            p[title~=\"para\"]{\n",
    "                background: yellowgreen;\n",
    "                font-size: 20px;\n",
    "            }\n",
    "        </style>\n",
    "    </head>\n",
    "\n",
    "    <body>\n",
    "        <p title=\"para graph\"> this is paragraph 1</p>\n",
    "        <p title=\"noob\"> this is paragraph 2</p>\n",
    "        <p title=\"para\"> this is paragraph 3</p>\n",
    "        <p> this is paragraph 4</p>\n",
    "    </body>\n",
    "</html>"
   ]
  },
  {
   "cell_type": "code",
   "execution_count": null,
   "metadata": {},
   "outputs": [],
   "source": [
    "#in this case it will match exact if any - is inlcuded in word"
   ]
  },
  {
   "cell_type": "code",
   "execution_count": null,
   "metadata": {
    "vscode": {
     "languageId": "html"
    }
   },
   "outputs": [],
   "source": [
    "<!DOCTYPE html>\n",
    "<html>\n",
    "    <head>\n",
    "        <meta charset=\"utf-8\" />\n",
    "        <title>attributes selectors</title>\n",
    "        <style>\n",
    "            p[title|=\"para\"]{\n",
    "                background: yellowgreen;\n",
    "                font-size: 20px;\n",
    "            }\n",
    "        </style>\n",
    "    </head>\n",
    "\n",
    "    <body>\n",
    "        <p title=\"para-graph\"> this is paragraph 1</p>\n",
    "        <p title=\"noob\"> this is paragraph 2</p>\n",
    "        <p title=\"para-\"> this is paragraph 3</p>\n",
    "        <p> this is paragraph 4</p>\n",
    "    </body>\n",
    "</html>"
   ]
  },
  {
   "cell_type": "code",
   "execution_count": null,
   "metadata": {},
   "outputs": [],
   "source": [
    "#here in below , in begging it should match the word then it will apply all this to tags"
   ]
  },
  {
   "cell_type": "code",
   "execution_count": null,
   "metadata": {
    "vscode": {
     "languageId": "html"
    }
   },
   "outputs": [],
   "source": [
    "<!DOCTYPE html>\n",
    "<html>\n",
    "    <head>\n",
    "        <meta charset=\"utf-8\" />\n",
    "        <title>attributes selectors</title>\n",
    "        <style>\n",
    "            p[title^=\"para\"]{\n",
    "                background: yellowgreen;\n",
    "                font-size: 20px;\n",
    "            }\n",
    "        </style>\n",
    "    </head>\n",
    "\n",
    "    <body>\n",
    "        <p title=\"paragraph\"> this is paragraph 1</p>\n",
    "        <p title=\"noob\"> this is paragraph 2</p>\n",
    "        <p> this is paragraph 3</p>\n",
    "        <p title=\"para\"> this is paragraph 4</p>\n",
    "        <p title=\"paraa\"> this is paragraph 4</p>\n",
    "        <p> this is paragraph 4</p>\n",
    "    </body>\n",
    "</html>"
   ]
  },
  {
   "cell_type": "code",
   "execution_count": null,
   "metadata": {},
   "outputs": [],
   "source": [
    "#here below the title name shoudl end in the giventags then it will apply this to alll tags"
   ]
  },
  {
   "cell_type": "code",
   "execution_count": null,
   "metadata": {
    "vscode": {
     "languageId": "html"
    }
   },
   "outputs": [],
   "source": [
    "<!DOCTYPE html>\n",
    "<html>\n",
    "    <head>\n",
    "        <meta charset=\"utf-8\" />\n",
    "        <title>attributes selectors</title>\n",
    "        <style>\n",
    "            p[title^=\"para\"]{\n",
    "                background: yellowgreen;\n",
    "                font-size: 20px;\n",
    "            }\n",
    "        </style>\n",
    "    </head>\n",
    "\n",
    "    <body>\n",
    "        <p title=\"para\"> this is paragraph 1</p>\n",
    "        <p title=\"noob\"> this is paragraph 2</p>\n",
    "        <p> this is paragraph 3</p>\n",
    "        <p title=\"para\"> this is paragraph 4</p>\n",
    "        <p title=\"paraa\"> this is paragraph 4</p>\n",
    "        <p> this is paragraph 4</p>\n",
    "        <p title=\"hipara\"> this is paragraph 4</p>\n",
    "        <p title=\"heypara\"> this is paragraph 4</p>\n",
    "    </body>\n",
    "</html>"
   ]
  },
  {
   "cell_type": "code",
   "execution_count": null,
   "metadata": {
    "vscode": {
     "languageId": "html"
    }
   },
   "outputs": [],
   "source": [
    "#example attributes : here i need styles for the emails only:\n"
   ]
  },
  {
   "cell_type": "code",
   "execution_count": null,
   "metadata": {
    "vscode": {
     "languageId": "html"
    }
   },
   "outputs": [],
   "source": [
    "<!DOCTYPE html>\n",
    "<html>\n",
    "    <head>\n",
    "        <meta charset=\"utf-8\" />\n",
    "        <title>attributes selectors</title>\n",
    "        <style>\n",
    "            input[type=\"p\"] {\n",
    "                background: blue;\n",
    "                font-size: 20px;\n",
    "                color:aqua\n",
    "            }\n",
    "        </style>\n",
    "    </head>\n",
    "\n",
    "    <body>\n",
    "        Name : <input type=\"text\"> <br>\n",
    "        Email : <input type=\"email\"> <br>\n",
    "        <p title=\"para\"> this is paragraph 1</p>\n",
    "        <p title=\"noob\"> this is paragraph 2</p>\n",
    "        <p> this is paragraph 3</p>\n",
    "        <p title=\"para\"> this is paragraph 4</p>\n",
    "        <p title=\"paraa\"> this is paragraph 4</p>\n",
    "        <p> this is paragraph 4</p>\n",
    "        <p title=\"hipara\"> this is paragraph 4</p>\n",
    "        <p title=\"heypara\"> this is paragraph 4</p>\n",
    "    </body>\n",
    "</html>"
   ]
  },
  {
   "cell_type": "code",
   "execution_count": null,
   "metadata": {
    "vscode": {
     "languageId": "html"
    }
   },
   "outputs": [],
   "source": []
  }
 ],
 "metadata": {
  "language_info": {
   "name": "python"
  }
 },
 "nbformat": 4,
 "nbformat_minor": 2
}
