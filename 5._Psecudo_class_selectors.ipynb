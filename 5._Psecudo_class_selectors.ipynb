{
 "cells": [
  {
   "cell_type": "code",
   "execution_count": null,
   "metadata": {},
   "outputs": [],
   "source": [
    "#psecudo class selectors :\n"
   ]
  },
  {
   "cell_type": "markdown",
   "metadata": {},
   "source": [
    "![p](img\\img12.png)"
   ]
  },
  {
   "cell_type": "markdown",
   "metadata": {},
   "source": [
    "![p](img\\img13.png)"
   ]
  },
  {
   "cell_type": "code",
   "execution_count": null,
   "metadata": {
    "vscode": {
     "languageId": "html"
    }
   },
   "outputs": [],
   "source": [
    "<!DOCTYPE html>\n",
    "<html>\n",
    "    <head>\n",
    "        <meta charset=\"utf-8\" />\n",
    "        <title>attributes selectors</title>\n",
    "        <style>\n",
    "            p:hover{\n",
    "                background: palevioletred;\n",
    "                color: white;\n",
    "            }\n",
    "            a:link{\n",
    "             color: darkgreen;   \n",
    "            }\n",
    "        </style>\n",
    "    </head>\n",
    "\n",
    "    <body>\n",
    "        <p> this is vivek</p>\n",
    "        <a href=\"http://www.amazon.com\"> amazon </a>\n",
    "    </body>\n",
    "</html>"
   ]
  },
  {
   "cell_type": "code",
   "execution_count": null,
   "metadata": {},
   "outputs": [],
   "source": [
    "#some example : whenever u place mousein email box , it shows colour"
   ]
  },
  {
   "cell_type": "code",
   "execution_count": null,
   "metadata": {
    "vscode": {
     "languageId": "html"
    }
   },
   "outputs": [],
   "source": [
    "<!DOCTYPE html>\n",
    "<html>\n",
    "    <head>\n",
    "        <meta charset=\"utf-8\" />\n",
    "        <title>attributes selectors</title>\n",
    "        <style>\n",
    "            input:focus{\n",
    "                color:white;\n",
    "                background: blue;\n",
    "            }\n",
    "        </style>\n",
    "    </head>\n",
    "\n",
    "    <body>\n",
    "        name:<input type=\"text\">\n",
    "    </body>\n",
    "</html>"
   ]
  },
  {
   "cell_type": "code",
   "execution_count": null,
   "metadata": {
    "vscode": {
     "languageId": "html"
    }
   },
   "outputs": [],
   "source": [
    "#required:"
   ]
  },
  {
   "cell_type": "code",
   "execution_count": null,
   "metadata": {
    "vscode": {
     "languageId": "html"
    }
   },
   "outputs": [],
   "source": [
    "<!DOCTYPE html>\n",
    "<html>\n",
    "    <head>\n",
    "        <meta charset=\"utf-8\" />\n",
    "        <title>attributes selectors</title>\n",
    "        <style>\n",
    "            input:required{\n",
    "                color:white;\n",
    "                background: blue;\n",
    "            }\n",
    "        </style>\n",
    "    </head>\n",
    "\n",
    "    <body>\n",
    "        name:<input type=\"text\"> <br>\n",
    "        Email:<input type=\"text\" required>\n",
    "    </body>\n",
    "</html>"
   ]
  },
  {
   "cell_type": "code",
   "execution_count": null,
   "metadata": {
    "vscode": {
     "languageId": "html"
    }
   },
   "outputs": [],
   "source": [
    "#optional:"
   ]
  },
  {
   "cell_type": "code",
   "execution_count": null,
   "metadata": {
    "vscode": {
     "languageId": "html"
    }
   },
   "outputs": [],
   "source": [
    "<!DOCTYPE html>\n",
    "<html>\n",
    "    <head>\n",
    "        <meta charset=\"utf-8\" />\n",
    "        <title>attributes selectors</title>\n",
    "        <style>\n",
    "            input:optional{\n",
    "                color:white;\n",
    "                background: blue;\n",
    "            }\n",
    "        </style>\n",
    "    </head>\n",
    "\n",
    "    <body>\n",
    "        name:<input type=\"text\"> <br>\n",
    "        Email:<input type=\"text\" required>\n",
    "    </body>\n",
    "</html>"
   ]
  },
  {
   "cell_type": "code",
   "execution_count": null,
   "metadata": {
    "vscode": {
     "languageId": "html"
    }
   },
   "outputs": [],
   "source": [
    "#read write , read only"
   ]
  },
  {
   "cell_type": "code",
   "execution_count": null,
   "metadata": {
    "vscode": {
     "languageId": "html"
    }
   },
   "outputs": [],
   "source": [
    "<!DOCTYPE html>\n",
    "<html>\n",
    "    <head>\n",
    "        <meta charset=\"utf-8\" />\n",
    "        <title>attributes selectors</title>\n",
    "        <style>\n",
    "            input:read-write{\n",
    "                color: red;\n",
    "                background: pink;\n",
    "            }\n",
    "        </style>\n",
    "    </head>\n",
    "\n",
    "    <body>\n",
    "        name:<input type=\"text\" readonly> <br>\n",
    "        Email:<input type=\"text\">\n",
    "    </body>\n",
    "</html>"
   ]
  },
  {
   "cell_type": "code",
   "execution_count": null,
   "metadata": {
    "vscode": {
     "languageId": "html"
    }
   },
   "outputs": [],
   "source": [
    "#valid , invalid , minlength:"
   ]
  },
  {
   "cell_type": "code",
   "execution_count": null,
   "metadata": {
    "vscode": {
     "languageId": "html"
    }
   },
   "outputs": [],
   "source": [
    "<!DOCTYPE html>\n",
    "<html>\n",
    "    <head>\n",
    "        <meta charset=\"utf-8\" />\n",
    "        <title>attributes selectors</title>\n",
    "        <style>\n",
    "            input:valid{\n",
    "                color: green;\n",
    "                background: pink;\n",
    "            }\n",
    "\n",
    "            input:invalid{\n",
    "                color:red;\n",
    "                background: white;\n",
    "\n",
    "            }\n",
    "        </style>\n",
    "\n",
    "    </head>\n",
    "\n",
    "    <body>\n",
    "        name:<input type=\"text\" minlength=\"5\"> <br>\n",
    "        Email:<input type=\"text\">\n",
    "    </body>\n",
    "</html>"
   ]
  },
  {
   "cell_type": "code",
   "execution_count": null,
   "metadata": {
    "vscode": {
     "languageId": "html"
    }
   },
   "outputs": [],
   "source": [
    "#disabled: it will apply which gave disabled attribute"
   ]
  },
  {
   "cell_type": "code",
   "execution_count": null,
   "metadata": {
    "vscode": {
     "languageId": "html"
    }
   },
   "outputs": [],
   "source": [
    "<!DOCTYPE html>\n",
    "<html>\n",
    "    <head>\n",
    "        <meta charset=\"utf-8\" />\n",
    "        <title>attributes selectors</title>\n",
    "        <style>\n",
    "            input:disabled{\n",
    "                background: blue;\n",
    "                color: white;\n",
    "            }\n",
    "        </style>\n",
    "\n",
    "    </head>\n",
    "\n",
    "    <body>\n",
    "        <form>\n",
    "            <input type=\"text\" disabled>\n",
    "            <input type=\"submit\" disabled>\n",
    "        </form>\n",
    "    </body>\n",
    "</html>"
   ]
  },
  {
   "cell_type": "code",
   "execution_count": null,
   "metadata": {},
   "outputs": [],
   "source": [
    "# default + label"
   ]
  },
  {
   "cell_type": "code",
   "execution_count": null,
   "metadata": {
    "vscode": {
     "languageId": "html"
    }
   },
   "outputs": [],
   "source": [
    "<!DOCTYPE html>\n",
    "<html>\n",
    "    <head>\n",
    "        <meta charset=\"utf-8\" />\n",
    "        <title>attributes selectors</title>\n",
    "        <style>\n",
    "            input:default+label{\n",
    "                background: green;\n",
    "                color: white;\n",
    "            }\n",
    "        </style>\n",
    "\n",
    "    </head>\n",
    "\n",
    "    <body>\n",
    "        <p> language known </p>\n",
    "        <input type=\"checkbox\" checked> <label> Telugu </label>\n",
    "        <input type=\"checkbox\"> <label> English </label>\n",
    "        <input type=\"checkbox\"> <label> Hindi </label>\n",
    "    </body>\n",
    "</html>"
   ]
  },
  {
   "cell_type": "code",
   "execution_count": null,
   "metadata": {},
   "outputs": [],
   "source": [
    "# checked + label : it will apply styles when user cicked on it "
   ]
  },
  {
   "cell_type": "code",
   "execution_count": null,
   "metadata": {
    "vscode": {
     "languageId": "html"
    }
   },
   "outputs": [],
   "source": [
    "<!DOCTYPE html>\n",
    "<html>\n",
    "    <head>\n",
    "        <meta charset=\"utf-8\" />\n",
    "        <title>attributes selectors</title>\n",
    "        <style>\n",
    "            input:checked +label{\n",
    "                background: green;\n",
    "                color: white;\n",
    "            }\n",
    "        </style>\n",
    "\n",
    "    </head>\n",
    "\n",
    "    <body>\n",
    "        <p> language known </p>\n",
    "        <input type=\"checkbox\" checked> <label> Telugu </label>\n",
    "        <input type=\"checkbox\"> <label> English </label>\n",
    "        <input type=\"checkbox\"> <label> Hindi </label>\n",
    "    </body>\n",
    "</html>"
   ]
  },
  {
   "cell_type": "code",
   "execution_count": null,
   "metadata": {},
   "outputs": [],
   "source": [
    "# in range:\n"
   ]
  },
  {
   "cell_type": "code",
   "execution_count": null,
   "metadata": {
    "vscode": {
     "languageId": "html"
    }
   },
   "outputs": [],
   "source": [
    "<!DOCTYPE html>\n",
    "<html>\n",
    "    <head>\n",
    "        <meta charset=\"utf-8\" />\n",
    "        <title>attributes selectors</title>\n",
    "        <style>\n",
    "            input:in-range{\n",
    "                color:white;\n",
    "                background: green;\n",
    "            }\n",
    "            input:out-of-range{\n",
    "                color:white;\n",
    "                background: red;\n",
    "            }\n",
    "        </style>\n",
    "\n",
    "    </head>\n",
    "\n",
    "    <body>\n",
    "        <input type=\"number\" min=\"560\" max=\"700\">\n",
    "    </body>\n",
    "</html>"
   ]
  },
  {
   "cell_type": "code",
   "execution_count": null,
   "metadata": {
    "vscode": {
     "languageId": "html"
    }
   },
   "outputs": [],
   "source": [
    "#empty:"
   ]
  },
  {
   "cell_type": "code",
   "execution_count": null,
   "metadata": {
    "vscode": {
     "languageId": "html"
    }
   },
   "outputs": [],
   "source": [
    "<!DOCTYPE html>\n",
    "<html>\n",
    "    <head>\n",
    "        <meta charset=\"utf-8\" />\n",
    "        <title>attributes selectors</title>\n",
    "        <style>\n",
    "            textarea:empty{\n",
    "                color:pink;\n",
    "                background: yellow;\n",
    "                width: 100px;\n",
    "            }\n",
    "        </style>\n",
    "\n",
    "    </head>\n",
    "\n",
    "    <body>\n",
    "        <p>abcdefghijklmnop</p>\n",
    "        <textarea></textarea>\n",
    "    </body>\n",
    "</html>"
   ]
  },
  {
   "cell_type": "code",
   "execution_count": null,
   "metadata": {
    "vscode": {
     "languageId": "html"
    }
   },
   "outputs": [],
   "source": [
    "#not"
   ]
  },
  {
   "cell_type": "code",
   "execution_count": null,
   "metadata": {
    "vscode": {
     "languageId": "html"
    }
   },
   "outputs": [],
   "source": [
    "<!DOCTYPE html>\n",
    "<html>\n",
    "    <head>\n",
    "        <meta charset=\"utf-8\" />\n",
    "        <title>attributes selectors</title>\n",
    "        <style>\n",
    "            p:not(.first){\n",
    "                color:red;\n",
    "                background: yellow;\n",
    "            }\n",
    "        </style>\n",
    "\n",
    "    </head>\n",
    "\n",
    "    <body>\n",
    "        <p class=\"first\"> paragraph1</p>\n",
    "        <p class=\"second\"> paragraph1</p>\n",
    "        <p class=\"first\"> paragraph1</p>\n",
    "    </body>\n",
    "</html>"
   ]
  }
 ],
 "metadata": {
  "language_info": {
   "name": "python"
  }
 },
 "nbformat": 4,
 "nbformat_minor": 2
}
