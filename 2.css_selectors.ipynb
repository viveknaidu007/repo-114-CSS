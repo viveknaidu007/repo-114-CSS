{
 "cells": [
  {
   "cell_type": "code",
   "execution_count": null,
   "metadata": {},
   "outputs": [],
   "source": [
    "#css selectors :\n",
    "\n",
    "# what these selectors will tell? for which on ewe have to apply style and which tag andstyle content should apply "
   ]
  },
  {
   "cell_type": "markdown",
   "metadata": {
    "vscode": {
     "languageId": "html"
    }
   },
   "source": [
    "![p](img\\img5.png)"
   ]
  },
  {
   "cell_type": "markdown",
   "metadata": {},
   "source": [
    "# 1. Simple selectors:"
   ]
  },
  {
   "cell_type": "code",
   "execution_count": null,
   "metadata": {},
   "outputs": [],
   "source": [
    "#1. tag based"
   ]
  },
  {
   "cell_type": "markdown",
   "metadata": {},
   "source": [
    "![p](img\\img6.png)"
   ]
  },
  {
   "cell_type": "code",
   "execution_count": null,
   "metadata": {},
   "outputs": [],
   "source": [
    "#2. id based : \"#\" symbol we use  to give specific colour or styles to specific line we can use this \n",
    "\n",
    "#w eshould type same id to differnece tags , u can take different names "
   ]
  },
  {
   "cell_type": "markdown",
   "metadata": {},
   "source": [
    "![p](img\\img7.png)"
   ]
  },
  {
   "cell_type": "code",
   "execution_count": null,
   "metadata": {
    "vscode": {
     "languageId": "html"
    }
   },
   "outputs": [],
   "source": [
    "<!DOCTYPE html>\n",
    "<html>\n",
    "    <head>\n",
    "        <meta charset=\"utf-8\" />\n",
    "        <title> css selectors</title>\n",
    "        <style>\n",
    "            #second{\n",
    "                color:green;\n",
    "                background: pink\n",
    "            }\n",
    "        </style>\n",
    "    </head>\n",
    "\n",
    "    <body>\n",
    "        <p>this paragraph</p>\n",
    "        <p id=\"second\">this paragraph22</p>\n",
    "        <p>this paragraph33</p>\n",
    "        <p>this paragraph44</p>\n",
    "        <p>this paragraph55</p>\n",
    "\n",
    "        <h1> this vivek bro</h1>\n",
    "    </body>\n",
    "</html>"
   ]
  },
  {
   "cell_type": "code",
   "execution_count": null,
   "metadata": {},
   "outputs": [],
   "source": [
    "#3. class based : we use \".\" symbol , \n",
    "\n",
    "#here we can give same class name to multiple tags "
   ]
  },
  {
   "cell_type": "code",
   "execution_count": null,
   "metadata": {
    "vscode": {
     "languageId": "html"
    }
   },
   "outputs": [],
   "source": [
    "<!DOCTYPE html>\n",
    "<html>\n",
    "    <head>\n",
    "        <meta charset=\"utf-8\" />\n",
    "        <title> css selectors</title>\n",
    "        <style>\n",
    "            .hero{\n",
    "                color:green;\n",
    "                background: pink\n",
    "            }\n",
    "        </style>\n",
    "    </head>\n",
    "\n",
    "    <body>\n",
    "        <p>this paragraph</p>\n",
    "        <p class=\"hero\">this paragraph22</p>\n",
    "        <p>this paragraph33</p>\n",
    "        <p class=\"hero\">this paragraph44</p>\n",
    "        <p>this paragraph55</p>\n",
    "\n",
    "        <h1> this vivek bro</h1>\n",
    "    </body>\n",
    "</html>"
   ]
  },
  {
   "cell_type": "markdown",
   "metadata": {},
   "source": [
    "# 2.combinator selectors "
   ]
  },
  {
   "cell_type": "markdown",
   "metadata": {
    "vscode": {
     "languageId": "html"
    }
   },
   "source": [
    "![p](img\\img8.png)"
   ]
  },
  {
   "cell_type": "code",
   "execution_count": null,
   "metadata": {},
   "outputs": [],
   "source": [
    "# 1.child selectors: to apply the styles directly to the direct childs like inside of <head> are child tags "
   ]
  },
  {
   "cell_type": "code",
   "execution_count": null,
   "metadata": {
    "vscode": {
     "languageId": "html"
    }
   },
   "outputs": [],
   "source": [
    "<!DOCTYPE html>\n",
    "<html>\n",
    "    <head>\n",
    "        <meta charset=\"utf-8\" />\n",
    "        <title> css selectors</title>\n",
    "        <style>\n",
    "            body > p{\n",
    "                color:purple;\n",
    "                background: yellow;\n",
    "            }\n",
    "        </style>\n",
    "    </head>\n",
    "\n",
    "    <body>\n",
    "        <p>this paragraph</p>\n",
    "        <p>this paragraph22</p>\n",
    "        <p>this paragraph33</p>\n",
    "        <p>this paragraph44</p>\n",
    "        <p>this paragraph55</p>\n",
    "        <h1> this vivek bro</h1>\n",
    "    </body>\n",
    "</html>"
   ]
  },
  {
   "cell_type": "code",
   "execution_count": null,
   "metadata": {},
   "outputs": [],
   "source": [
    "#2.Descendent selector(space) :here it will all styles to the every childs in tag childs "
   ]
  },
  {
   "cell_type": "code",
   "execution_count": null,
   "metadata": {
    "vscode": {
     "languageId": "html"
    }
   },
   "outputs": [],
   "source": [
    "<!DOCTYPE html>\n",
    "<html>\n",
    "    <head>\n",
    "        <meta charset=\"utf-8\" />\n",
    "        <title> css selectors</title>\n",
    "        <style>\n",
    "            body p{\n",
    "                color:purple;\n",
    "                background: yellow;\n",
    "            }\n",
    "        </style>\n",
    "    </head>\n",
    "\n",
    "    <body>\n",
    "        <p>this paragraph</p>\n",
    "        <p>this paragraph22</p>\n",
    "        <p>this paragraph33</p>\n",
    "        <p>this paragraph44</p>\n",
    "        <p>this paragraph55</p>\n",
    "        <h1> this vivek bro</h1>\n",
    "        <div> \n",
    "            <p>hello vivek 100</p>\n",
    "            <p>hello vivek 101</p>\n",
    "            <p>hello vivek 102</p>\n",
    "            <h1> this is vivek dude</h1>\n",
    "        </div>\n",
    "    </body>\n",
    "</html>"
   ]
  },
  {
   "cell_type": "code",
   "execution_count": null,
   "metadata": {
    "vscode": {
     "languageId": "html"
    }
   },
   "outputs": [],
   "source": [
    "#3.adjacent sibling selectors(+) : "
   ]
  },
  {
   "cell_type": "code",
   "execution_count": null,
   "metadata": {
    "vscode": {
     "languageId": "html"
    }
   },
   "outputs": [],
   "source": [
    "<!DOCTYPE html>\n",
    "<html>\n",
    "    <head>\n",
    "        <meta charset=\"utf-8\" />\n",
    "        <title> css selectors</title>\n",
    "        <style>\n",
    "        p+h1{\n",
    "                color:purple;\n",
    "                background: yellow;\n",
    "            }\n",
    "        </style>\n",
    "    </head>\n",
    "\n",
    "    <body>\n",
    "        <p>this paragraph</p>\n",
    "        <p>this paragraph22</p>\n",
    "        <p>this paragraph33</p>\n",
    "        <p>this paragraph44</p>\n",
    "        <p>this paragraph55</p>\n",
    "        <h4> this vivek bro</h1>\n",
    "        <div> \n",
    "            <p>hello vivek 100</p>\n",
    "            <p>hello vivek 101</p>\n",
    "            <p>hello vivek 102</p>\n",
    "            <h1> this is vivek dude</h1>\n",
    "        </div>\n",
    "    </body>\n",
    "</html>"
   ]
  },
  {
   "cell_type": "code",
   "execution_count": null,
   "metadata": {},
   "outputs": [],
   "source": [
    "#4. general sibling selector (~): "
   ]
  },
  {
   "cell_type": "code",
   "execution_count": null,
   "metadata": {
    "vscode": {
     "languageId": "html"
    }
   },
   "outputs": [],
   "source": [
    "<!DOCTYPE html>\n",
    "<html>\n",
    "    <head>\n",
    "        <meta charset=\"utf-8\" />\n",
    "        <title> css selectors</title>\n",
    "        <style>\n",
    "        p~h1{\n",
    "                color:purple;\n",
    "                background: yellow;\n",
    "            }\n",
    "        </style>\n",
    "    </head>\n",
    "\n",
    "    <body>\n",
    "        <p>this paragraph</p>\n",
    "        <p>this paragraph22</p>\n",
    "        <p>this paragraph33</p>\n",
    "        <p>this paragraph44</p>\n",
    "        <p>this paragraph55</p>\n",
    "        <h4> this vivek bro</h1>\n",
    "        <div> \n",
    "            <p>hello vivek 100</p>\n",
    "            <p>hello vivek 101</p>\n",
    "            <p>hello vivek 102</p>\n",
    "            <h1> this is vivek dude</h1>\n",
    "        </div>\n",
    "    </body>\n",
    "</html>"
   ]
  }
 ],
 "metadata": {
  "language_info": {
   "name": "python"
  }
 },
 "nbformat": 4,
 "nbformat_minor": 2
}
