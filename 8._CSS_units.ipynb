{
 "cells": [
  {
   "cell_type": "code",
   "execution_count": null,
   "metadata": {},
   "outputs": [],
   "source": [
    "# CSS rem vs em vs px"
   ]
  },
  {
   "cell_type": "code",
   "execution_count": null,
   "metadata": {},
   "outputs": [],
   "source": [
    "# pixel = 0.23 cm"
   ]
  },
  {
   "cell_type": "markdown",
   "metadata": {},
   "source": [
    "![p](img\\img16.png)"
   ]
  },
  {
   "cell_type": "code",
   "execution_count": null,
   "metadata": {
    "vscode": {
     "languageId": "html"
    }
   },
   "outputs": [],
   "source": [
    "<!DOCTYPE html>\n",
    "<html lang=\"en\">\n",
    "<head>\n",
    "    <meta charset=\"UTF-8\">\n",
    "    <meta name=\"viewport\" content=\"width=device-width, initial-scale=1.0\">\n",
    "    <title>Document</title>\n",
    "\n",
    "    <style>\n",
    "        html{\n",
    "            font-size: 40px;\n",
    "        }\n",
    "        .c1{\n",
    "            width:400px;\n",
    "            height:400px;\n",
    "            background-color: blue;\n",
    "        }\n",
    "    </style>\n",
    "    \n",
    "</head>\n",
    "<body>\n",
    "    <div class=\"parent\">\n",
    "        <div class=\"c1\">\n",
    "            division 1\n",
    "        </div>\n",
    "\n",
    "        <div class=\"c2\">\n",
    "            division2\n",
    "        </div>\n",
    "\n",
    "    </div>\n",
    "</body>\n",
    "</html>"
   ]
  },
  {
   "cell_type": "code",
   "execution_count": null,
   "metadata": {
    "vscode": {
     "languageId": "html"
    }
   },
   "outputs": [],
   "source": [
    "<!DOCTYPE html>\n",
    "<html lang=\"en\">\n",
    "<head>\n",
    "    <meta charset=\"UTF-8\">\n",
    "    <meta name=\"viewport\" content=\"width=device-width, initial-scale=1.0\">\n",
    "    <title>Document</title>\n",
    "\n",
    "    <style>\n",
    "        .c1{\n",
    "            width:20%;\n",
    "            height:10%;\n",
    "            background-color: blue;\n",
    "        }\n",
    "        .parent{\n",
    "            width: 1000px;\n",
    "            height: 1000px;\n",
    "            background-color: orange;\n",
    "        }\n",
    "    </style>\n",
    "\n",
    "</head>\n",
    "<body>\n",
    "    <div class=\"parent\">\n",
    "        <div class=\"c1\">\n",
    "            division 1\n",
    "        </div>\n",
    "\n",
    "        <div class=\"c2\">\n",
    "            division2\n",
    "        </div>\n",
    "\n",
    "    </div>\n",
    "</body>\n",
    "</html>"
   ]
  },
  {
   "cell_type": "code",
   "execution_count": null,
   "metadata": {
    "vscode": {
     "languageId": "html"
    }
   },
   "outputs": [],
   "source": [
    "<!DOCTYPE html>\n",
    "<html lang=\"en\">\n",
    "<head>\n",
    "    <meta charset=\"UTF-8\">\n",
    "    <meta name=\"viewport\" content=\"width=device-width, initial-scale=1.0\">\n",
    "    <title>Document</title>\n",
    "\n",
    "    <style>\n",
    "        .c1{\n",
    "            background-color: blue;\n",
    "            width:30vh\n",
    "        }\n",
    "\n",
    "        .parent{\n",
    "            background-color: orange;\n",
    "\n",
    "        }\n",
    "    </style>\n",
    "\n",
    "</head>\n",
    "<body>\n",
    "    <div class=\"parent\">\n",
    "        <div class=\"c1\">\n",
    "            division 1\n",
    "        </div>\n",
    "\n",
    "        <div class=\"c2\">\n",
    "            division2\n",
    "        </div>\n",
    "\n",
    "    </div>\n",
    "</body>\n",
    "</html>"
   ]
  },
  {
   "cell_type": "code",
   "execution_count": null,
   "metadata": {
    "vscode": {
     "languageId": "html"
    }
   },
   "outputs": [],
   "source": [
    "<!DOCTYPE html>\n",
    "<html lang=\"en\">\n",
    "<head>\n",
    "    <meta charset=\"UTF-8\">\n",
    "    <meta name=\"viewport\" content=\"width=device-width, initial-scale=1.0\">\n",
    "    <title>Document</title>\n",
    "\n",
    "    <style>\n",
    "        html{\n",
    "            font-size: 40px;\n",
    "        }\n",
    "        .c1{\n",
    "            width:400px;\n",
    "            height:400px;\n",
    "            background-color: blue;\n",
    "        }\n",
    "    </style>\n",
    "    \n",
    "</head>\n",
    "<body>\n",
    "    <div class=\"parent\">\n",
    "        <div class=\"c1\">\n",
    "            division 1\n",
    "        </div>\n",
    "\n",
    "        <div class=\"c2\">\n",
    "            division2\n",
    "        </div>\n",
    "\n",
    "    </div>\n",
    "</body>\n",
    "</html>"
   ]
  },
  {
   "cell_type": "code",
   "execution_count": null,
   "metadata": {
    "vscode": {
     "languageId": "html"
    }
   },
   "outputs": [],
   "source": [
    "<!DOCTYPE html>\n",
    "<html lang=\"en\">\n",
    "<head>\n",
    "    <meta charset=\"UTF-8\">\n",
    "    <meta name=\"viewport\" content=\"width=device-width, initial-scale=1.0\">\n",
    "    <title>Document</title>\n",
    "\n",
    "    <style>\n",
    "        .c1{\n",
    "            background-color: blue;\n",
    "            font-size: 10px;\n",
    "            width:10em\n",
    "        }\n",
    "\n",
    "        .parent{\n",
    "            background-color: orange;\n",
    "\n",
    "        }\n",
    "    </style>\n",
    "\n",
    "</head>\n",
    "<body>\n",
    "    <div class=\"parent\">\n",
    "        <div class=\"c1\">\n",
    "            division 1\n",
    "        </div>\n",
    "\n",
    "        <div class=\"c2\">\n",
    "            division2\n",
    "        </div>\n",
    "\n",
    "    </div>\n",
    "</body>\n",
    "</html>"
   ]
  }
 ],
 "metadata": {
  "language_info": {
   "name": "python"
  }
 },
 "nbformat": 4,
 "nbformat_minor": 2
}
