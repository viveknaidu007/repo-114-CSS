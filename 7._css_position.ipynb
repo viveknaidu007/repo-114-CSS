{
 "cells": [
  {
   "cell_type": "code",
   "execution_count": null,
   "metadata": {},
   "outputs": [],
   "source": [
    "# CSS position absolute :\n",
    "\n",
    "# CSS position absoloute vs relative"
   ]
  },
  {
   "cell_type": "code",
   "execution_count": null,
   "metadata": {},
   "outputs": [],
   "source": []
  },
  {
   "cell_type": "markdown",
   "metadata": {},
   "source": [
    "![p](img\\img15.png)"
   ]
  },
  {
   "cell_type": "code",
   "execution_count": null,
   "metadata": {},
   "outputs": [],
   "source": []
  },
  {
   "cell_type": "code",
   "execution_count": null,
   "metadata": {},
   "outputs": [],
   "source": [
    "<!DOCTYPE html>\n",
    "<html lang=\"en\">\n",
    "    <head>\n",
    "        <meta charset=\"utf-8\">\n",
    "        <meta http-equiv=\"X_UA-Compatible\" content=\"IE=edge\">\n",
    "        <meta name=\"viewport\" content=\"width=device-width\", initial-scale=\"1.0\">\n",
    "        <title> Document </title>\n",
    "\n",
    "    </head>\n",
    "\n",
    "\n",
    "    <body>\n",
    "        <div> division1 </div>\n",
    "        <div> division2 </div>\n",
    "    </body>\n",
    "\n",
    "    </html>"
   ]
  },
  {
   "cell_type": "markdown",
   "metadata": {},
   "source": []
  },
  {
   "cell_type": "code",
   "execution_count": null,
   "metadata": {},
   "outputs": [],
   "source": [
    "<!DOCTYPE html>\n",
    "<html lang=\"en\">\n",
    "    <head>\n",
    "        <meta charset=\"utf-8\">\n",
    "        <meta http-equiv=\"X_UA-Compatible\" content=\"IE=edge\">\n",
    "        <meta name=\"viewport\" content=\"width=device-width\", initial-scale=\"1.0\">\n",
    "        <title> Document </title>\n",
    "\n",
    "    </head>\n",
    "\n",
    "    <style>\n",
    "        #d3{\n",
    "            position:absolute;\n",
    "            top:100px;\n",
    "            left:50px;\n",
    "        }\n",
    "    </style>\n",
    "\n",
    "    <body>\n",
    "        <div> division1 </div>\n",
    "        <div> division2 </div>\n",
    "        <div id=\"d3\"> division3 </div>\n",
    "    </body>\n",
    "\n",
    "    </html>"
   ]
  },
  {
   "cell_type": "code",
   "execution_count": null,
   "metadata": {},
   "outputs": [],
   "source": [
    "<!DOCTYPE html>\n",
    "<html lang=\"en\">\n",
    "    <head>\n",
    "        <meta charset=\"utf-8\">\n",
    "        <meta http-equiv=\"X_UA-Compatible\" content=\"IE=edge\">\n",
    "        <meta name=\"viewport\" content=\"width=device-width\", initial-scale=\"1.0\">\n",
    "        <title> Document </title>\n",
    "\n",
    "    </head>\n",
    "\n",
    "    <style>\n",
    "        #d3{\n",
    "            background-color: burlywood;\n",
    "        }\n",
    "\n",
    "        #d1{\n",
    "            height:500px;\n",
    "            background-color: cyan;\n",
    "        }\n",
    "\n",
    "        #d2{\n",
    "            height:500px;\n",
    "            background-color: darkgoldenrod;\n",
    "        }\n",
    "    </style>\n",
    "\n",
    "    <body>\n",
    "        <div id=\"d1\"> division1 </div>\n",
    "        <div id=\"d2\"> division2 </div>\n",
    "        <div id=\"d3\"> division3 </div>\n",
    "    </body>\n",
    "\n",
    "    </html>"
   ]
  },
  {
   "cell_type": "code",
   "execution_count": null,
   "metadata": {},
   "outputs": [],
   "source": [
    "<!DOCTYPE html>\n",
    "<html lang=\"en\">\n",
    "    <head>\n",
    "        <meta charset=\"utf-8\">\n",
    "        <meta http-equiv=\"X_UA-Compatible\" content=\"IE=edge\">\n",
    "        <meta name=\"viewport\" content=\"width=device-width\", initial-scale=\"1.0\">\n",
    "        <title> Document </title>\n",
    "\n",
    "    </head>\n",
    "\n",
    "    <style>\n",
    "        #d3{\n",
    "            background-color: burlywood;\n",
    "        }\n",
    "\n",
    "        #d1{\n",
    "            height:500px;\n",
    "            background-color: cyan;\n",
    "        }\n",
    "\n",
    "        #d2{\n",
    "            height:500px;\n",
    "            background-color: darkgoldenrod;\n",
    "        }\n",
    "\n",
    "        #first{\n",
    "            background-color: deeppink;\n",
    "            height:60px;\n",
    "            width:90%;\n",
    "            position:fixed;\n",
    "            top:10px;\n",
    "        }\n",
    "\n",
    "    </style>\n",
    "\n",
    "    <body>\n",
    "        <div id=\"first\"> div top </div>\n",
    "        <div id=\"d1\"> division1 </div>\n",
    "        <div id=\"d2\"> division2 </div>\n",
    "        <div id=\"d3\"> division3 </div>\n",
    "    </body>\n",
    "\n",
    "    </html>"
   ]
  }
 ],
 "metadata": {
  "language_info": {
   "name": "python"
  }
 },
 "nbformat": 4,
 "nbformat_minor": 2
}
