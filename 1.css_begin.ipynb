{
 "cells": [
  {
   "cell_type": "code",
   "execution_count": null,
   "metadata": {},
   "outputs": [],
   "source": [
    "#css stands for cascading style sheet:\n",
    "\n",
    "#define how our page looks\n"
   ]
  },
  {
   "cell_type": "code",
   "execution_count": null,
   "metadata": {},
   "outputs": [],
   "source": [
    "#before css :"
   ]
  },
  {
   "cell_type": "markdown",
   "metadata": {},
   "source": [
    "![p](img\\img1.png)"
   ]
  },
  {
   "cell_type": "code",
   "execution_count": null,
   "metadata": {},
   "outputs": [],
   "source": [
    "#after css:\n"
   ]
  },
  {
   "cell_type": "markdown",
   "metadata": {},
   "source": []
  },
  {
   "cell_type": "code",
   "execution_count": null,
   "metadata": {
    "vscode": {
     "languageId": "html"
    }
   },
   "outputs": [],
   "source": [
    "#after css:\n"
   ]
  },
  {
   "cell_type": "markdown",
   "metadata": {},
   "source": []
  },
  {
   "cell_type": "code",
   "execution_count": null,
   "metadata": {},
   "outputs": [],
   "source": [
    "#ways to apply styles to our weboage:\n",
    "'''\n",
    "1.inline style\n",
    "2.internal style sheets\n",
    "3.external style sheets\n",
    "'''"
   ]
  },
  {
   "cell_type": "code",
   "execution_count": null,
   "metadata": {},
   "outputs": [],
   "source": [
    "#1.inline style :\n"
   ]
  },
  {
   "cell_type": "markdown",
   "metadata": {},
   "source": [
    "![p](img\\img2.png)"
   ]
  },
  {
   "cell_type": "code",
   "execution_count": null,
   "metadata": {
    "vscode": {
     "languageId": "html"
    }
   },
   "outputs": [],
   "source": [
    "<!DOCTYPE html>\n",
    "<html>\n",
    "    <head>\n",
    "        <meta charset=\"utf-8\" />\n",
    "        <title> css demo</title>\n",
    "    </head>\n",
    "\n",
    "    <body>\n",
    "        <p style=\"color:brown;background:blue;\"> this is paragraph</p>\n",
    "    </body>\n",
    "</html>"
   ]
  },
  {
   "cell_type": "code",
   "execution_count": null,
   "metadata": {},
   "outputs": [],
   "source": [
    "#2.internal style sheet"
   ]
  },
  {
   "cell_type": "markdown",
   "metadata": {},
   "source": [
    "![p](img\\img3.png)"
   ]
  },
  {
   "cell_type": "code",
   "execution_count": null,
   "metadata": {
    "vscode": {
     "languageId": "html"
    }
   },
   "outputs": [],
   "source": [
    "<!DOCTYPE html>\n",
    "<html>\n",
    "    <head>\n",
    "        <meta charset=\"utf-8\" />\n",
    "        <title> css demo</title>\n",
    "        <style>\n",
    "            p{\n",
    "                color:white;\n",
    "                background: green;\n",
    "            }\n",
    "        </style>\n",
    "    </head>\n",
    "\n",
    "    <body>\n",
    "        <p>this paragraph</p>\n",
    "        <p>this paragraph22</p>\n",
    "        <p>this paragraph33</p>\n",
    "        <p>this paragraph44</p>\n",
    "        <p>this paragraph55</p>\n",
    "    </body>\n",
    "</html>"
   ]
  },
  {
   "cell_type": "code",
   "execution_count": null,
   "metadata": {},
   "outputs": [],
   "source": [
    "#3.external style sheet : we have to creaete .css file and import the styles using link tag"
   ]
  },
  {
   "cell_type": "markdown",
   "metadata": {},
   "source": [
    "![p](img\\img4.png)"
   ]
  },
  {
   "cell_type": "markdown",
   "metadata": {},
   "source": [
    "<!DOCTYPE html>\n",
    "<html>\n",
    "    <head>\n",
    "        <meta charset=\"utf-8\" />\n",
    "        <title> css demo</title>\n",
    "        <link rel=\"stylesheet\" href=\"style.css\">\n",
    "    </head>\n",
    "\n",
    "    <body>\n",
    "        <p>this paragraph</p>\n",
    "        <p>this paragraph22</p>\n",
    "        <p>this paragraph33</p>\n",
    "        <p>this paragraph44</p>\n",
    "        <p>this paragraph55</p>\n",
    "\n",
    "        <h1> this vivek bro</h1>\n",
    "    </body>\n",
    "</html>"
   ]
  },
  {
   "cell_type": "code",
   "execution_count": null,
   "metadata": {
    "vscode": {
     "languageId": "html"
    }
   },
   "outputs": [],
   "source": [
    "p{\n",
    "    color:yellow;\n",
    "    background: green;\n",
    "}\n",
    "\n",
    "h1{\n",
    "    color: blueviolet;\n",
    "}"
   ]
  }
 ],
 "metadata": {
  "language_info": {
   "name": "python"
  }
 },
 "nbformat": 4,
 "nbformat_minor": 2
}
