{
 "cells": [
  {
   "cell_type": "code",
   "execution_count": null,
   "metadata": {},
   "outputs": [],
   "source": [
    "#css box model:"
   ]
  },
  {
   "cell_type": "code",
   "execution_count": null,
   "metadata": {},
   "outputs": [],
   "source": []
  },
  {
   "cell_type": "markdown",
   "metadata": {},
   "source": [
    "![p](img\\img14.png)"
   ]
  },
  {
   "cell_type": "code",
   "execution_count": null,
   "metadata": {
    "vscode": {
     "languageId": "html"
    }
   },
   "outputs": [],
   "source": [
    "<!DOCTYPE html>\n",
    "<html>\n",
    "    <head>\n",
    "        <meta charset=\"utf-8\" />\n",
    "        <title>css box model</title>\n",
    "        <style>\n",
    "            h2{\n",
    "                background: pink;\n",
    "                padding: 15px 60px 30px 50px;\n",
    "                width: 500px;\n",
    "                border: solid 3px blue;\n",
    "                border-left: dashed 10px black;\n",
    "                margin: left 20px;\n",
    "            }\n",
    "\n",
    "            p{\n",
    "                margin-left: 10px;\n",
    "                margin-top: 20px;\n",
    "                margin-bottom: 100px;\n",
    "                background: green;\n",
    "                padding:40px;\n",
    "                border: solid black 10px;\n",
    "\n",
    "            }\n",
    "\n",
    "            .i1{\n",
    "                margin-left: 10px;\n",
    "                margin-top: 20px;\n",
    "                margin-bottom: 100px;\n",
    "                background: green;\n",
    "                padding:40px;\n",
    "                border: solid black 10px;\n",
    "            }\n",
    "\n",
    "            .i2{\n",
    "                margin-left: 10px;\n",
    "                margin-top: 20px;\n",
    "                margin-bottom: 100px;\n",
    "                background: green;\n",
    "                padding:40px;\n",
    "                border: solid black 10px;\n",
    "            }\n",
    "        </style>\n",
    "\n",
    "        <body>\n",
    "            <h2> this is h2 element </h2>\n",
    "            <p> a paragraph is self-contained\n",
    "                unit of sicoiunrn in wriononsnlk\n",
    "            </p>\n",
    "\n",
    "            <i calss=\"i1\"> italic </i>\n",
    "            <i class=\"i2\"> italic2 </i>\n",
    "\n",
    "\n",
    "        </body>\n",
    "\n",
    "    </head>\n",
    "\n",
    "</html>"
   ]
  }
 ],
 "metadata": {
  "language_info": {
   "name": "python"
  }
 },
 "nbformat": 4,
 "nbformat_minor": 2
}
