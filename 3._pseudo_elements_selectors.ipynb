{
 "cells": [
  {
   "cell_type": "code",
   "execution_count": null,
   "metadata": {},
   "outputs": [],
   "source": [
    "#pseudo element selectors :\n"
   ]
  },
  {
   "cell_type": "markdown",
   "metadata": {},
   "source": [
    "![p](img\\img9.png)"
   ]
  },
  {
   "cell_type": "code",
   "execution_count": null,
   "metadata": {
    "vscode": {
     "languageId": "html"
    }
   },
   "outputs": [],
   "source": [
    "<!DOCTYPE html>\n",
    "<html>\n",
    "    <head>\n",
    "        <meta charset=\"utf-8\" />\n",
    "        <title>psudeo elements</title>\n",
    "        <style>\n",
    "            h2::first-letter{\n",
    "                text-transform:uppercase;\n",
    "                color: indianred;\n",
    "            }\n",
    "            #first::first-line{\n",
    "                font-size: 25px;\n",
    "                color: blue;\n",
    "            }\n",
    "        </style>\n",
    "    </head>\n",
    "\n",
    "    <body>\n",
    "        <h2> this head tag 1</h2>\n",
    "        <h2> this head tag 1</h2>\n",
    "        <h2> this head tag 1</h2>\n",
    "        <h2> this head tag 1</h2>\n",
    "        <h2> this head tag 1</h2>\n",
    "        <p id=\"first\">this paragraph of anythin ok hello\n",
    "            okok then\n",
    "        </p>\n",
    "\n",
    "    </body>\n",
    "</html>"
   ]
  },
  {
   "cell_type": "markdown",
   "metadata": {},
   "source": [
    "![p](img\\img10.png)"
   ]
  },
  {
   "cell_type": "code",
   "execution_count": null,
   "metadata": {
    "vscode": {
     "languageId": "html"
    }
   },
   "outputs": [],
   "source": [
    "<!DOCTYPE html>\n",
    "<html>\n",
    "    <head>\n",
    "        <meta charset=\"utf-8\" />\n",
    "        <title>psudeo elements</title>\n",
    "        <style>\n",
    "            h2::first-letter{\n",
    "                text-transform:uppercase;\n",
    "                color: darkorchid;\n",
    "            }\n",
    "            h2::first-line{\n",
    "                font-size:25px;\n",
    "                color:palevioletred\n",
    "\n",
    "            }\n",
    "            h2::before{\n",
    "                content:\"before elemenet used\";\n",
    "                color:green\n",
    "            }\n",
    "            h2::after{\n",
    "                content:\"vivek\";\n",
    "                color:blue\n",
    "            }\n",
    "            h2::selection{\n",
    "                background:black;\n",
    "                color:aqua\n",
    "\n",
    "            }\n",
    "        </style>\n",
    "    </head>\n",
    "\n",
    "    <body>\n",
    "        <h2> this head tag 1</h2>\n",
    "        <h2> this head tag 1</h2>\n",
    "        <h2> this head tag 1</h2>\n",
    "        <h2> this head tag 1</h2>\n",
    "        <h2> this head tag 1</h2>\n",
    "        <p id=\"first\">this paragraph of anythin ok hello\n",
    "            okok then\n",
    "        </p>\n",
    "\n",
    "    </body>\n",
    "</html>"
   ]
  }
 ],
 "metadata": {
  "language_info": {
   "name": "python"
  }
 },
 "nbformat": 4,
 "nbformat_minor": 2
}
